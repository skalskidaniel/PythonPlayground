{
 "cells": [
  {
   "cell_type": "markdown",
   "id": "e07efeaf",
   "metadata": {},
   "source": [
    "# Jupyter Notebook\n",
    "\n",
    "To jest przykładowy notatnik Jupyter. Poniżej znajdują się podstawowe instrukcje dotyczące jego obsługi.\n",
    "\n",
    "## Dodawanie nowych komórek\n",
    "\n",
    "Możesz dodawać nowe komórki do swojego notatnika, aby pisać kod lub tekst.\n",
    "\n",
    "- **Aby dodać komórkę z kodem:** Kliknij przycisk `+ Code` na pasku narzędzi na górze notatnika.\n",
    "- **Aby dodać komórkę z tekstem (Markdown):** Kliknij przycisk `+ Markdown` na pasku narzędzi.\n",
    "\n",
    "Możesz również użyć menu `Insert` (Wstaw), aby dodać komórki powyżej (`Insert Cell Above`) lub poniżej (`Insert Cell Below`) aktywnej komórki.\n",
    "\n",
    "## Wybieranie kernela\n",
    "\n",
    "Kernel to \"silnik\", który wykonuje kod w Twoim notatniku. Dla różnych języków programowania (np. Python, R, Julia) istnieją różne kernele.\n",
    "\n",
    "- **Aby wybrać kernel:** Kliknij nazwę kernela w prawym górnym rogu okna notatnika (np. `Python 3.11.13`).\n",
    "- Zostanie wyświetlona lista dostępnych kerneli. Wybierz ten, który jest wskazywany jako rekomendowany."
   ]
  },
  {
   "cell_type": "code",
   "execution_count": 1,
   "id": "51776b11",
   "metadata": {},
   "outputs": [
    {
     "name": "stdout",
     "output_type": "stream",
     "text": [
      "Hello World!\n"
     ]
    }
   ],
   "source": [
    "print(\"Hello World!\")"
   ]
  }
 ],
 "metadata": {
  "kernelspec": {
   "display_name": "Python 3",
   "language": "python",
   "name": "python3"
  },
  "language_info": {
   "codemirror_mode": {
    "name": "ipython",
    "version": 3
   },
   "file_extension": ".py",
   "mimetype": "text/x-python",
   "name": "python",
   "nbconvert_exporter": "python",
   "pygments_lexer": "ipython3",
   "version": "3.11.13"
  }
 },
 "nbformat": 4,
 "nbformat_minor": 5
}
